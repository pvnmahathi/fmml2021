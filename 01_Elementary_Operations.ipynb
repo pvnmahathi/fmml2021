{
  "nbformat": 4,
  "nbformat_minor": 0,
  "metadata": {
    "colab": {
      "name": "01_Elementary_Operations.ipynb",
      "provenance": [],
      "include_colab_link": true
    },
    "kernelspec": {
      "name": "python3",
      "display_name": "Python 3"
    },
    "language_info": {
      "name": "python"
    }
  },
  "cells": [
    {
      "cell_type": "markdown",
      "metadata": {
        "id": "view-in-github",
        "colab_type": "text"
      },
      "source": [
        "<a href=\"https://colab.research.google.com/github/pvnmahathi/fmml2021/blob/main/01_Elementary_Operations.ipynb\" target=\"_parent\"><img src=\"https://colab.research.google.com/assets/colab-badge.svg\" alt=\"Open In Colab\"/></a>"
      ]
    },
    {
      "cell_type": "code",
      "metadata": {
        "id": "d_4Xzhe4p5Jh",
        "outputId": "63969cb6-c96c-4f9c-d787-7b138de5e9fd",
        "colab": {
          "base_uri": "https://localhost:8080/"
        }
      },
      "source": [
        "!python --version"
      ],
      "execution_count": 2,
      "outputs": [
        {
          "output_type": "stream",
          "name": "stdout",
          "text": [
            "Python 3.7.11\n"
          ]
        }
      ]
    },
    {
      "cell_type": "markdown",
      "metadata": {
        "id": "LQ7shzxUfj6N"
      },
      "source": [
        "### Elementary operations"
      ]
    },
    {
      "cell_type": "markdown",
      "metadata": {
        "id": "PI0fJw10fswU"
      },
      "source": [
        "#### Basic Calculator Operations\n",
        "\" addition + ,  subtraction  -  , multiplication  *  , division /  ,  exponent ** , modulus  %  , floor division  // \""
      ]
    },
    {
      "cell_type": "code",
      "metadata": {
        "id": "dm1hT_B9jXGu",
        "outputId": "45e918db-7440-4823-f4e3-ef25979b0a96",
        "colab": {
          "base_uri": "https://localhost:8080/"
        }
      },
      "source": [
        "3 + 2         # addition"
      ],
      "execution_count": 3,
      "outputs": [
        {
          "output_type": "execute_result",
          "data": {
            "text/plain": [
              "5"
            ]
          },
          "metadata": {},
          "execution_count": 3
        }
      ]
    },
    {
      "cell_type": "code",
      "metadata": {
        "id": "sUhkQPuhXbYj",
        "outputId": "a2dc441e-1bc4-4dae-b340-8e333eaa8b26",
        "colab": {
          "base_uri": "https://localhost:8080/"
        }
      },
      "source": [
        "3 - 2         # subtraction"
      ],
      "execution_count": 4,
      "outputs": [
        {
          "output_type": "execute_result",
          "data": {
            "text/plain": [
              "1"
            ]
          },
          "metadata": {},
          "execution_count": 4
        }
      ]
    },
    {
      "cell_type": "code",
      "metadata": {
        "id": "B1gLBI1LXo1m",
        "outputId": "6d3f6f66-72fa-4b82-f51c-7ef48ae7fd1d",
        "colab": {
          "base_uri": "https://localhost:8080/"
        }
      },
      "source": [
        "5 * 3         # multiplication"
      ],
      "execution_count": 5,
      "outputs": [
        {
          "output_type": "execute_result",
          "data": {
            "text/plain": [
              "15"
            ]
          },
          "metadata": {},
          "execution_count": 5
        }
      ]
    },
    {
      "cell_type": "code",
      "metadata": {
        "id": "TwvpedNVXzRc",
        "outputId": "5fa7f551-9c74-4bf7-b349-60fe7d936d98",
        "colab": {
          "base_uri": "https://localhost:8080/"
        }
      },
      "source": [
        "7 / 2         # division (always returns a float)"
      ],
      "execution_count": 6,
      "outputs": [
        {
          "output_type": "execute_result",
          "data": {
            "text/plain": [
              "3.5"
            ]
          },
          "metadata": {},
          "execution_count": 6
        }
      ]
    },
    {
      "cell_type": "code",
      "metadata": {
        "id": "2LQZZcRPX5Bt",
        "outputId": "a09ab85d-ab46-400b-c61e-cff7e0a5c1b8",
        "colab": {
          "base_uri": "https://localhost:8080/"
        }
      },
      "source": [
        "type (7 / 2)"
      ],
      "execution_count": 7,
      "outputs": [
        {
          "output_type": "execute_result",
          "data": {
            "text/plain": [
              "float"
            ]
          },
          "metadata": {},
          "execution_count": 7
        }
      ]
    },
    {
      "cell_type": "code",
      "metadata": {
        "id": "qjJkqqXcX95p",
        "outputId": "cc5bdf14-0589-436e-ab16-6cd491301481",
        "colab": {
          "base_uri": "https://localhost:8080/"
        }
      },
      "source": [
        "7 // 2        # floor division (returns an integer - discards decimal part)"
      ],
      "execution_count": 8,
      "outputs": [
        {
          "output_type": "execute_result",
          "data": {
            "text/plain": [
              "3"
            ]
          },
          "metadata": {},
          "execution_count": 8
        }
      ]
    },
    {
      "cell_type": "code",
      "metadata": {
        "id": "2L_ku8CLYKDC",
        "outputId": "eb7fcaa6-5d48-440f-93a0-11cf3d7e1a88",
        "colab": {
          "base_uri": "https://localhost:8080/"
        }
      },
      "source": [
        "type ( 7 // 2)"
      ],
      "execution_count": 9,
      "outputs": [
        {
          "output_type": "execute_result",
          "data": {
            "text/plain": [
              "int"
            ]
          },
          "metadata": {},
          "execution_count": 9
        }
      ]
    },
    {
      "cell_type": "code",
      "metadata": {
        "id": "dH2NmrgNYM97",
        "outputId": "d26e89d1-b1f7-443f-e2c0-c14aada8b2d6",
        "colab": {
          "base_uri": "https://localhost:8080/"
        }
      },
      "source": [
        "7 % 2         # modulus operator - remainder is fetched after division"
      ],
      "execution_count": 10,
      "outputs": [
        {
          "output_type": "execute_result",
          "data": {
            "text/plain": [
              "1"
            ]
          },
          "metadata": {},
          "execution_count": 10
        }
      ]
    },
    {
      "cell_type": "code",
      "metadata": {
        "id": "wNTJter-YZ7W",
        "outputId": "79b497a2-15ca-483f-e7fc-53ba4e9f179e",
        "colab": {
          "base_uri": "https://localhost:8080/"
        }
      },
      "source": [
        "7 ** 2        # exponentiation "
      ],
      "execution_count": 11,
      "outputs": [
        {
          "output_type": "execute_result",
          "data": {
            "text/plain": [
              "49"
            ]
          },
          "metadata": {},
          "execution_count": 11
        }
      ]
    },
    {
      "cell_type": "code",
      "metadata": {
        "id": "asikDVm7YvYT",
        "outputId": "a3258e29-159e-4056-fa7d-358c03c65997",
        "colab": {
          "base_uri": "https://localhost:8080/"
        }
      },
      "source": [
        "5 - 2 * 2     # operator precedence : (), **, -(unary),  * or /, + or -"
      ],
      "execution_count": 12,
      "outputs": [
        {
          "output_type": "execute_result",
          "data": {
            "text/plain": [
              "1"
            ]
          },
          "metadata": {},
          "execution_count": 12
        }
      ]
    },
    {
      "cell_type": "code",
      "metadata": {
        "id": "YOcK-5d5eA39"
      },
      "source": [
        "# on string variables\n",
        "first_name = 'charlie'\n",
        "second_name = \"chaplin\""
      ],
      "execution_count": 13,
      "outputs": []
    },
    {
      "cell_type": "code",
      "metadata": {
        "id": "oYu_ynPOeS2_",
        "outputId": "78bcebb7-72d1-4abf-b8bb-3060e08e9100",
        "colab": {
          "base_uri": "https://localhost:8080/",
          "height": 35
        }
      },
      "source": [
        "first_name + second_name"
      ],
      "execution_count": 14,
      "outputs": [
        {
          "output_type": "execute_result",
          "data": {
            "application/vnd.google.colaboratory.intrinsic+json": {
              "type": "string"
            },
            "text/plain": [
              "'charliechaplin'"
            ]
          },
          "metadata": {},
          "execution_count": 14
        }
      ]
    },
    {
      "cell_type": "code",
      "metadata": {
        "id": "oIY8q8wgehFC",
        "outputId": "dcb63307-b43f-456e-a9c5-0bc8d736cc08",
        "colab": {
          "base_uri": "https://localhost:8080/",
          "height": 35
        }
      },
      "source": [
        "first_name + ' ' + second_name"
      ],
      "execution_count": 15,
      "outputs": [
        {
          "output_type": "execute_result",
          "data": {
            "application/vnd.google.colaboratory.intrinsic+json": {
              "type": "string"
            },
            "text/plain": [
              "'charlie chaplin'"
            ]
          },
          "metadata": {},
          "execution_count": 15
        }
      ]
    },
    {
      "cell_type": "code",
      "metadata": {
        "id": "6Vuv8iMbevRJ",
        "outputId": "081e7efa-133d-4609-e236-1745e022a3bf",
        "colab": {
          "base_uri": "https://localhost:8080/",
          "height": 35
        }
      },
      "source": [
        "first_name * 2"
      ],
      "execution_count": 16,
      "outputs": [
        {
          "output_type": "execute_result",
          "data": {
            "application/vnd.google.colaboratory.intrinsic+json": {
              "type": "string"
            },
            "text/plain": [
              "'charliecharlie'"
            ]
          },
          "metadata": {},
          "execution_count": 16
        }
      ]
    },
    {
      "cell_type": "code",
      "metadata": {
        "id": "QPblckrXe2ui",
        "outputId": "135461e6-5fc6-4b8e-8969-c44a1261f902",
        "colab": {
          "base_uri": "https://localhost:8080/",
          "height": 35
        }
      },
      "source": [
        "(first_name * 2) + ' ' + (second_name * 3)"
      ],
      "execution_count": 17,
      "outputs": [
        {
          "output_type": "execute_result",
          "data": {
            "application/vnd.google.colaboratory.intrinsic+json": {
              "type": "string"
            },
            "text/plain": [
              "'charliecharlie chaplinchaplinchaplin'"
            ]
          },
          "metadata": {},
          "execution_count": 17
        }
      ]
    },
    {
      "cell_type": "markdown",
      "metadata": {
        "id": "aLcLONZ1fLxt"
      },
      "source": [
        "### Some exercises..."
      ]
    },
    {
      "cell_type": "code",
      "metadata": {
        "id": "DRFAgL6DZYxm"
      },
      "source": [
        "# 1. A brick has dimensions 5 cm x 4 cm x 2 cm. Find volume.\n",
        "brick_length = 5\n",
        "brick_breadth = 4\n",
        "brick_height = 2"
      ],
      "execution_count": 18,
      "outputs": []
    },
    {
      "cell_type": "code",
      "metadata": {
        "id": "pKZ7uDHCZ3At",
        "outputId": "dcbb8741-fab5-4730-b6ef-9f8f782e0058",
        "colab": {
          "base_uri": "https://localhost:8080/"
        }
      },
      "source": [
        "brick_volume = brick_length * brick_breadth * brick_height\n",
        "print (brick_volume)"
      ],
      "execution_count": 19,
      "outputs": [
        {
          "output_type": "stream",
          "name": "stdout",
          "text": [
            "40\n"
          ]
        }
      ]
    },
    {
      "cell_type": "code",
      "metadata": {
        "id": "S2zZsoBb2z45",
        "outputId": "c2a9bee5-e4e4-404b-ba18-9517bf695c10",
        "colab": {
          "base_uri": "https://localhost:8080/"
        }
      },
      "source": [
        "# 2. What will the expression -3 ** 2 evaluate to ?\n",
        "-3 ** 2"
      ],
      "execution_count": 22,
      "outputs": [
        {
          "output_type": "execute_result",
          "data": {
            "text/plain": [
              "-9"
            ]
          },
          "metadata": {},
          "execution_count": 22
        }
      ]
    },
    {
      "cell_type": "markdown",
      "metadata": {
        "id": "nPqa-OG28yg_"
      },
      "source": [
        "*Exercise (do it yourself) :* A litre of petrol costs Rs 102. Your two wheeler gives a mileage of 38 kms per litre of petrol. How much of a distance can you travel with fuel worth Rs 50."
      ]
    },
    {
      "cell_type": "markdown",
      "metadata": {
        "id": "BwtKwux-pmVL"
      },
      "source": [
        "If we can cover 38 kms, with fuel worth Rs. 102, the distance we can travel with fuel worth Rs. 50 will be (38 * 50)/102"
      ]
    },
    {
      "cell_type": "code",
      "metadata": {
        "id": "fZ4Tpi0B27lf",
        "outputId": "3cbe1275-9a01-40ff-f7f1-bbb2ce84a08d",
        "colab": {
          "base_uri": "https://localhost:8080/"
        }
      },
      "source": [
        "d = (38*50)/102\n",
        "print(\"Distance travelled with fuel worth Rs. 50 is\",round(d,3), \"kms\")"
      ],
      "execution_count": 27,
      "outputs": [
        {
          "output_type": "stream",
          "name": "stdout",
          "text": [
            "Distance travelled with fuel worth Rs. 50 is 18.627 kms\n"
          ]
        }
      ]
    },
    {
      "cell_type": "markdown",
      "metadata": {
        "id": "vUAWMNbjiSvf"
      },
      "source": [
        "#### References"
      ]
    },
    {
      "cell_type": "markdown",
      "metadata": {
        "id": "KmpvkMmKiVcZ"
      },
      "source": [
        "1. [Python Operators](https://www.w3schools.com/python/python_operators.asp) and [Python Exercises](https://www.w3schools.com/python/exercise.asp)\n",
        "2. [Official Python Documentation](https://docs.python.org/3/tutorial/introduction.html)\n"
      ]
    }
  ]
}