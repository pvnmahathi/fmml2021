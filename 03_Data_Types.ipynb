{
  "nbformat": 4,
  "nbformat_minor": 0,
  "metadata": {
    "colab": {
      "name": "03_Data_Types.ipynb",
      "provenance": [],
      "toc_visible": true,
      "include_colab_link": true
    },
    "kernelspec": {
      "name": "python3",
      "display_name": "Python 3"
    },
    "language_info": {
      "name": "python"
    }
  },
  "cells": [
    {
      "cell_type": "markdown",
      "metadata": {
        "id": "view-in-github",
        "colab_type": "text"
      },
      "source": [
        "<a href=\"https://colab.research.google.com/github/pvnmahathi/fmml2021/blob/main/03_Data_Types.ipynb\" target=\"_parent\"><img src=\"https://colab.research.google.com/assets/colab-badge.svg\" alt=\"Open In Colab\"/></a>"
      ]
    },
    {
      "cell_type": "markdown",
      "metadata": {
        "id": "CPk9Hiozv8JE"
      },
      "source": [
        "#### Basic Data Types - Integer, Float, Boolean, String, None"
      ]
    },
    {
      "cell_type": "code",
      "metadata": {
        "id": "FkdEec_QriO_"
      },
      "source": [
        "some_int = 3"
      ],
      "execution_count": 2,
      "outputs": []
    },
    {
      "cell_type": "code",
      "metadata": {
        "id": "IJ6gUIS24QPb",
        "outputId": "5ea161a6-5f56-44a1-faf1-fa78b2d346cf",
        "colab": {
          "base_uri": "https://localhost:8080/"
        }
      },
      "source": [
        "type(some_int)"
      ],
      "execution_count": 3,
      "outputs": [
        {
          "output_type": "execute_result",
          "data": {
            "text/plain": [
              "int"
            ]
          },
          "metadata": {},
          "execution_count": 3
        }
      ]
    },
    {
      "cell_type": "code",
      "metadata": {
        "id": "VTce7evQ0ZJ-"
      },
      "source": [
        "some_int += 4"
      ],
      "execution_count": 4,
      "outputs": []
    },
    {
      "cell_type": "code",
      "metadata": {
        "id": "F9kJID_q4Vul",
        "outputId": "85e50c92-48bd-44af-b9e6-61c95e98586d",
        "colab": {
          "base_uri": "https://localhost:8080/"
        }
      },
      "source": [
        "(some_int)"
      ],
      "execution_count": 6,
      "outputs": [
        {
          "output_type": "execute_result",
          "data": {
            "text/plain": [
              "7"
            ]
          },
          "metadata": {},
          "execution_count": 6
        }
      ]
    },
    {
      "cell_type": "code",
      "metadata": {
        "id": "tBmSj1-P0a52",
        "outputId": "7a64513b-aafa-484f-e2be-acdf0d29d78e",
        "colab": {
          "base_uri": "https://localhost:8080/"
        }
      },
      "source": [
        "some_other_int = int(5) # casting\n",
        "some_other_int"
      ],
      "execution_count": 13,
      "outputs": [
        {
          "output_type": "execute_result",
          "data": {
            "text/plain": [
              "5"
            ]
          },
          "metadata": {},
          "execution_count": 13
        }
      ]
    },
    {
      "cell_type": "code",
      "metadata": {
        "id": "Lmdkh7DI4d51",
        "outputId": "57685684-f638-4026-a7fb-3af37386a8e4",
        "colab": {
          "base_uri": "https://localhost:8080/"
        }
      },
      "source": [
        "some_other_int"
      ],
      "execution_count": 14,
      "outputs": [
        {
          "output_type": "execute_result",
          "data": {
            "text/plain": [
              "5"
            ]
          },
          "metadata": {},
          "execution_count": 14
        }
      ]
    },
    {
      "cell_type": "code",
      "metadata": {
        "id": "iNTYkoVX0dAF"
      },
      "source": [
        "some_float = 3.0"
      ],
      "execution_count": 15,
      "outputs": []
    },
    {
      "cell_type": "code",
      "metadata": {
        "id": "8893F0us0e8U",
        "outputId": "a9358dd9-5e85-4b2a-ada0-e5b870ad26a2",
        "colab": {
          "base_uri": "https://localhost:8080/"
        }
      },
      "source": [
        "type (some_float)"
      ],
      "execution_count": 16,
      "outputs": [
        {
          "output_type": "execute_result",
          "data": {
            "text/plain": [
              "float"
            ]
          },
          "metadata": {},
          "execution_count": 16
        }
      ]
    },
    {
      "cell_type": "code",
      "metadata": {
        "id": "8-XVO-4P4npP",
        "outputId": "be20e185-90f8-4dde-f91a-b89f609e1b87",
        "colab": {
          "base_uri": "https://localhost:8080/"
        }
      },
      "source": [
        "some_int = 3\n",
        "some_other_int = 8\n",
        "something = some_other_int / some_int\n",
        "print(type(something))\n",
        "print((something))"
      ],
      "execution_count": 19,
      "outputs": [
        {
          "output_type": "stream",
          "name": "stdout",
          "text": [
            "<class 'float'>\n",
            "2.6666666666666665\n"
          ]
        }
      ]
    },
    {
      "cell_type": "code",
      "metadata": {
        "id": "Swz27lkw46p4"
      },
      "source": [
        "some_bool = False"
      ],
      "execution_count": 20,
      "outputs": []
    },
    {
      "cell_type": "code",
      "metadata": {
        "id": "1srLd0394-3g",
        "outputId": "8dbafe05-d7b9-44b4-a480-cc4b52447f0a",
        "colab": {
          "base_uri": "https://localhost:8080/"
        }
      },
      "source": [
        "type(some_bool)"
      ],
      "execution_count": 21,
      "outputs": [
        {
          "output_type": "execute_result",
          "data": {
            "text/plain": [
              "bool"
            ]
          },
          "metadata": {},
          "execution_count": 21
        }
      ]
    },
    {
      "cell_type": "code",
      "metadata": {
        "id": "iVG3-KnQ5B2d",
        "outputId": "e23659cf-d226-43b5-868c-a5559d655d2d",
        "colab": {
          "base_uri": "https://localhost:8080/"
        }
      },
      "source": [
        "some_other_bool = bool(False)\n",
        "some_other_bool"
      ],
      "execution_count": 22,
      "outputs": [
        {
          "output_type": "execute_result",
          "data": {
            "text/plain": [
              "False"
            ]
          },
          "metadata": {},
          "execution_count": 22
        }
      ]
    },
    {
      "cell_type": "code",
      "metadata": {
        "id": "9BaOPoPV5OWn",
        "outputId": "8e4892e0-417f-41ee-d002-a39ab6a4b669",
        "colab": {
          "base_uri": "https://localhost:8080/"
        }
      },
      "source": [
        "bool()"
      ],
      "execution_count": 23,
      "outputs": [
        {
          "output_type": "execute_result",
          "data": {
            "text/plain": [
              "False"
            ]
          },
          "metadata": {},
          "execution_count": 23
        }
      ]
    },
    {
      "cell_type": "code",
      "metadata": {
        "id": "1clAB1Wn5Qsy",
        "outputId": "c2435242-48fe-4bdb-e6a1-d271c9cef1b0",
        "colab": {
          "base_uri": "https://localhost:8080/"
        }
      },
      "source": [
        "bool([])"
      ],
      "execution_count": 24,
      "outputs": [
        {
          "output_type": "execute_result",
          "data": {
            "text/plain": [
              "False"
            ]
          },
          "metadata": {},
          "execution_count": 24
        }
      ]
    },
    {
      "cell_type": "code",
      "metadata": {
        "id": "ikc1wSRs5TPD",
        "outputId": "5b288ffa-7a89-47ab-e078-a64df0ead501",
        "colab": {
          "base_uri": "https://localhost:8080/"
        }
      },
      "source": [
        "bool({})"
      ],
      "execution_count": 28,
      "outputs": [
        {
          "output_type": "execute_result",
          "data": {
            "text/plain": [
              "False"
            ]
          },
          "metadata": {},
          "execution_count": 28
        }
      ]
    },
    {
      "cell_type": "code",
      "metadata": {
        "id": "YTfUKX2-5VdH",
        "outputId": "99228578-11df-4d0b-9eaa-598b638d5248",
        "colab": {
          "base_uri": "https://localhost:8080/"
        }
      },
      "source": [
        "bool(())"
      ],
      "execution_count": 29,
      "outputs": [
        {
          "output_type": "execute_result",
          "data": {
            "text/plain": [
              "False"
            ]
          },
          "metadata": {},
          "execution_count": 29
        }
      ]
    },
    {
      "cell_type": "code",
      "metadata": {
        "id": "SfbHKsdH5Xq1",
        "outputId": "da55a286-2106-4f72-8df0-62b4f94f7c4c",
        "colab": {
          "base_uri": "https://localhost:8080/"
        }
      },
      "source": [
        "bool((1, 3))"
      ],
      "execution_count": 30,
      "outputs": [
        {
          "output_type": "execute_result",
          "data": {
            "text/plain": [
              "True"
            ]
          },
          "metadata": {},
          "execution_count": 30
        }
      ]
    },
    {
      "cell_type": "code",
      "metadata": {
        "id": "7bP-r-os5hTy"
      },
      "source": [
        "some_str = \"hello \"\n",
        "some_other_str = 'happy new year'"
      ],
      "execution_count": 31,
      "outputs": []
    },
    {
      "cell_type": "code",
      "metadata": {
        "id": "bKFczqox5nUc"
      },
      "source": [
        "merge_str = some_str + some_other_str # concatenation"
      ],
      "execution_count": 32,
      "outputs": []
    },
    {
      "cell_type": "code",
      "metadata": {
        "id": "rBqo7-ws5vw3",
        "outputId": "d2987ed1-74ff-4d9a-caa2-4d15770daf0d",
        "colab": {
          "base_uri": "https://localhost:8080/"
        }
      },
      "source": [
        "print (merge_str)"
      ],
      "execution_count": 33,
      "outputs": [
        {
          "output_type": "stream",
          "name": "stdout",
          "text": [
            "hello happy new year\n"
          ]
        }
      ]
    },
    {
      "cell_type": "code",
      "metadata": {
        "id": "K29mB5kW6Bub",
        "outputId": "ece47e50-0549-4c61-ff6b-98e0e2e62490",
        "colab": {
          "base_uri": "https://localhost:8080/"
        }
      },
      "source": [
        "for every_char in merge_str:\n",
        "  print (every_char)"
      ],
      "execution_count": 34,
      "outputs": [
        {
          "output_type": "stream",
          "name": "stdout",
          "text": [
            "h\n",
            "e\n",
            "l\n",
            "l\n",
            "o\n",
            " \n",
            "h\n",
            "a\n",
            "p\n",
            "p\n",
            "y\n",
            " \n",
            "n\n",
            "e\n",
            "w\n",
            " \n",
            "y\n",
            "e\n",
            "a\n",
            "r\n"
          ]
        }
      ]
    },
    {
      "cell_type": "code",
      "metadata": {
        "id": "zGEuwObI6mpi",
        "outputId": "d78e48bc-37aa-4fc9-844f-33aa1585a5cb",
        "colab": {
          "base_uri": "https://localhost:8080/"
        }
      },
      "source": [
        "for every_char in merge_str: print (every_char, end=\"\")"
      ],
      "execution_count": 35,
      "outputs": [
        {
          "output_type": "stream",
          "name": "stdout",
          "text": [
            "hello happy new year"
          ]
        }
      ]
    },
    {
      "cell_type": "markdown",
      "metadata": {
        "id": "icfeOEilxRpS"
      },
      "source": [
        "#### Type Casting"
      ]
    },
    {
      "cell_type": "code",
      "metadata": {
        "id": "k4KUIUtMxkDs",
        "outputId": "553cba5b-a9d6-40ab-9842-a6cb96c9ecc2",
        "colab": {
          "base_uri": "https://localhost:8080/"
        }
      },
      "source": [
        "i = 4\n",
        "j = float(i)\n",
        "print (j)"
      ],
      "execution_count": 43,
      "outputs": [
        {
          "output_type": "stream",
          "name": "stdout",
          "text": [
            "4.0\n"
          ]
        }
      ]
    },
    {
      "cell_type": "code",
      "metadata": {
        "id": "2emiqfVo2LXn",
        "outputId": "22683385-2762-417c-fab2-38984d5f3c08",
        "colab": {
          "base_uri": "https://localhost:8080/"
        }
      },
      "source": [
        "type(j)"
      ],
      "execution_count": 44,
      "outputs": [
        {
          "output_type": "execute_result",
          "data": {
            "text/plain": [
              "float"
            ]
          },
          "metadata": {},
          "execution_count": 44
        }
      ]
    },
    {
      "cell_type": "code",
      "metadata": {
        "id": "eKw6bw3T2UhB",
        "outputId": "53f7db95-79ec-4647-effb-9a6d1f0ddaaf",
        "colab": {
          "base_uri": "https://localhost:8080/"
        }
      },
      "source": [
        "i = int(j)\n",
        "type(i)"
      ],
      "execution_count": 45,
      "outputs": [
        {
          "output_type": "execute_result",
          "data": {
            "text/plain": [
              "int"
            ]
          },
          "metadata": {},
          "execution_count": 45
        }
      ]
    },
    {
      "cell_type": "code",
      "metadata": {
        "id": "l0pRioZH2ZFp",
        "outputId": "5c3657ec-b28a-4e26-aba7-4d2cb3d9c1b9",
        "colab": {
          "base_uri": "https://localhost:8080/"
        }
      },
      "source": [
        "some_str = str(i)\n",
        "print(some_str)"
      ],
      "execution_count": 46,
      "outputs": [
        {
          "output_type": "stream",
          "name": "stdout",
          "text": [
            "4\n"
          ]
        }
      ]
    },
    {
      "cell_type": "code",
      "metadata": {
        "id": "tLKkWWrA2fOa",
        "outputId": "f497dbbe-993d-4594-bc26-e27a1b02be43",
        "colab": {
          "base_uri": "https://localhost:8080/"
        }
      },
      "source": [
        "some_other_str = str(j)\n",
        "print (some_other_str)\n",
        "print (\"the new string now is \" + some_other_str) # string concatenation"
      ],
      "execution_count": 47,
      "outputs": [
        {
          "output_type": "stream",
          "name": "stdout",
          "text": [
            "4.0\n",
            "the new string now is 4.0\n"
          ]
        }
      ]
    },
    {
      "cell_type": "code",
      "metadata": {
        "id": "BzvOEP7S3DM7"
      },
      "source": [
        "some_bool = bool(some_other_str)"
      ],
      "execution_count": 54,
      "outputs": []
    },
    {
      "cell_type": "code",
      "metadata": {
        "id": "Ezy9S--R3ILJ",
        "outputId": "6ed417bd-ecd8-4402-f1cf-2d968a7840ab",
        "colab": {
          "base_uri": "https://localhost:8080/"
        }
      },
      "source": [
        "some_bool"
      ],
      "execution_count": 55,
      "outputs": [
        {
          "output_type": "execute_result",
          "data": {
            "text/plain": [
              "True"
            ]
          },
          "metadata": {},
          "execution_count": 55
        }
      ]
    },
    {
      "cell_type": "markdown",
      "metadata": {
        "id": "sIYTZKz11myP"
      },
      "source": [
        "#### Set"
      ]
    },
    {
      "cell_type": "code",
      "metadata": {
        "id": "pUSDI8dcVz0m"
      },
      "source": [
        "# Set - collection of items which are not in any particular order and are not indexed. \n",
        "# Duplicates are not allowed in set\n",
        "# Constructor is set()\n",
        "some_set = {'a', 'c', (2.3, 3.2, 2)}"
      ],
      "execution_count": 56,
      "outputs": []
    },
    {
      "cell_type": "code",
      "metadata": {
        "id": "OQ6C43GzVAiZ",
        "outputId": "a2520f65-0f3f-4dba-fd0d-a7264d0806db",
        "colab": {
          "base_uri": "https://localhost:8080/"
        }
      },
      "source": [
        "some_set"
      ],
      "execution_count": 57,
      "outputs": [
        {
          "output_type": "execute_result",
          "data": {
            "text/plain": [
              "{(2.3, 3.2, 2), 'a', 'c'}"
            ]
          },
          "metadata": {},
          "execution_count": 57
        }
      ]
    },
    {
      "cell_type": "code",
      "metadata": {
        "id": "LtTv6v9rU3If"
      },
      "source": [
        "some_set.update([1, 2, 3])"
      ],
      "execution_count": 58,
      "outputs": []
    },
    {
      "cell_type": "code",
      "metadata": {
        "id": "9LP1hydIUOpH",
        "outputId": "05c49486-2e32-4ae6-f6fa-ee622eb5738c",
        "colab": {
          "base_uri": "https://localhost:8080/"
        }
      },
      "source": [
        "some_set"
      ],
      "execution_count": 59,
      "outputs": [
        {
          "output_type": "execute_result",
          "data": {
            "text/plain": [
              "{(2.3, 3.2, 2), 1, 2, 3, 'a', 'c'}"
            ]
          },
          "metadata": {},
          "execution_count": 59
        }
      ]
    },
    {
      "cell_type": "code",
      "metadata": {
        "id": "fPA9CCQ8Q6IN",
        "outputId": "d7735bca-795e-4ebb-c789-b616c5bc7f96",
        "colab": {
          "base_uri": "https://localhost:8080/"
        }
      },
      "source": [
        "type(some_set)"
      ],
      "execution_count": 60,
      "outputs": [
        {
          "output_type": "execute_result",
          "data": {
            "text/plain": [
              "set"
            ]
          },
          "metadata": {},
          "execution_count": 60
        }
      ]
    },
    {
      "cell_type": "code",
      "metadata": {
        "id": "4IZt6LPeVL3W"
      },
      "source": [
        "some_set.add(5)"
      ],
      "execution_count": 61,
      "outputs": []
    },
    {
      "cell_type": "code",
      "metadata": {
        "id": "xr8c_BjPVS18",
        "outputId": "2c216edc-374f-43f3-8b17-f68216c24b27",
        "colab": {
          "base_uri": "https://localhost:8080/"
        }
      },
      "source": [
        "some_set.pop()"
      ],
      "execution_count": 62,
      "outputs": [
        {
          "output_type": "execute_result",
          "data": {
            "text/plain": [
              "1"
            ]
          },
          "metadata": {},
          "execution_count": 62
        }
      ]
    },
    {
      "cell_type": "code",
      "metadata": {
        "id": "UHxYABmBEpSe",
        "outputId": "7f39387c-4771-4c23-e05d-a89157d90713",
        "colab": {
          "base_uri": "https://localhost:8080/"
        }
      },
      "source": [
        "some_set"
      ],
      "execution_count": 63,
      "outputs": [
        {
          "output_type": "execute_result",
          "data": {
            "text/plain": [
              "{(2.3, 3.2, 2), 2, 3, 5, 'a', 'c'}"
            ]
          },
          "metadata": {},
          "execution_count": 63
        }
      ]
    },
    {
      "cell_type": "code",
      "metadata": {
        "id": "YO9wMDUrErmK",
        "outputId": "8be1bf55-978d-4466-8e04-1f38fd227e84",
        "colab": {
          "base_uri": "https://localhost:8080/"
        }
      },
      "source": [
        "some_set.pop()\n",
        "some_set.pop()"
      ],
      "execution_count": 65,
      "outputs": [
        {
          "output_type": "execute_result",
          "data": {
            "text/plain": [
              "(2.3, 3.2, 2)"
            ]
          },
          "metadata": {},
          "execution_count": 65
        }
      ]
    },
    {
      "cell_type": "code",
      "metadata": {
        "id": "Vo38o55yVaPV",
        "outputId": "1405a159-d89e-4b92-d8f5-b1422aa9a9d1",
        "colab": {
          "base_uri": "https://localhost:8080/"
        }
      },
      "source": [
        "for item in some_set: print (item)"
      ],
      "execution_count": 66,
      "outputs": [
        {
          "output_type": "stream",
          "name": "stdout",
          "text": [
            "5\n",
            "c\n",
            "a\n"
          ]
        }
      ]
    },
    {
      "cell_type": "code",
      "metadata": {
        "id": "F6yTElmsVhHO",
        "outputId": "b0b47143-9095-44ec-b4f8-24354d5b84f1",
        "colab": {
          "base_uri": "https://localhost:8080/"
        }
      },
      "source": [
        "some_set.discard(3)\n",
        "some_set"
      ],
      "execution_count": 69,
      "outputs": [
        {
          "output_type": "execute_result",
          "data": {
            "text/plain": [
              "{5, 'a', 'c'}"
            ]
          },
          "metadata": {},
          "execution_count": 69
        }
      ]
    },
    {
      "cell_type": "code",
      "metadata": {
        "id": "1nSJ7F3OXVdK"
      },
      "source": [
        "# set - union operator\n",
        "some_set = {'a', 'b', 'c'}\n",
        "some_other_set = {1, 2, 3}\n",
        "new_set = some_set | some_other_set"
      ],
      "execution_count": 70,
      "outputs": []
    },
    {
      "cell_type": "code",
      "metadata": {
        "id": "KjV3t_HZE_gG",
        "outputId": "939c25f8-9b9e-496a-eb06-87e6e4c5b66d",
        "colab": {
          "base_uri": "https://localhost:8080/"
        }
      },
      "source": [
        "new_set_1 = some_set.union(some_other_set)\n",
        "new_set_1"
      ],
      "execution_count": 72,
      "outputs": [
        {
          "output_type": "execute_result",
          "data": {
            "text/plain": [
              "{1, 2, 3, 'a', 'b', 'c'}"
            ]
          },
          "metadata": {},
          "execution_count": 72
        }
      ]
    },
    {
      "cell_type": "code",
      "metadata": {
        "id": "o8Wbaj5EXgN5",
        "outputId": "8cb29e19-01fd-4ce1-fb0f-455dcd97ff4d",
        "colab": {
          "base_uri": "https://localhost:8080/"
        }
      },
      "source": [
        "new_set"
      ],
      "execution_count": 71,
      "outputs": [
        {
          "output_type": "execute_result",
          "data": {
            "text/plain": [
              "{1, 2, 3, 'a', 'b', 'c'}"
            ]
          },
          "metadata": {},
          "execution_count": 71
        }
      ]
    },
    {
      "cell_type": "code",
      "metadata": {
        "id": "Jbw12LtkFKhZ",
        "outputId": "33f0cade-9d09-46c2-b7e7-ffa59cf69ea4",
        "colab": {
          "base_uri": "https://localhost:8080/"
        }
      },
      "source": [
        "(new_set == new_set_1)"
      ],
      "execution_count": 73,
      "outputs": [
        {
          "output_type": "execute_result",
          "data": {
            "text/plain": [
              "True"
            ]
          },
          "metadata": {},
          "execution_count": 73
        }
      ]
    },
    {
      "cell_type": "code",
      "metadata": {
        "id": "RftwibWYXqXM",
        "outputId": "722944e6-7372-4df5-a1ce-90f17cbb826f",
        "colab": {
          "base_uri": "https://localhost:8080/"
        }
      },
      "source": [
        "some_set.union(some_other_set)"
      ],
      "execution_count": 74,
      "outputs": [
        {
          "output_type": "execute_result",
          "data": {
            "text/plain": [
              "{1, 2, 3, 'a', 'b', 'c'}"
            ]
          },
          "metadata": {},
          "execution_count": 74
        }
      ]
    },
    {
      "cell_type": "code",
      "metadata": {
        "id": "TOMRqxLqXt8F",
        "outputId": "5b7b92fe-2dd4-496e-b7d9-c37a9f2759e2",
        "colab": {
          "base_uri": "https://localhost:8080/"
        }
      },
      "source": [
        "some_set"
      ],
      "execution_count": 75,
      "outputs": [
        {
          "output_type": "execute_result",
          "data": {
            "text/plain": [
              "{'a', 'b', 'c'}"
            ]
          },
          "metadata": {},
          "execution_count": 75
        }
      ]
    },
    {
      "cell_type": "code",
      "metadata": {
        "id": "TsCFAP95Xvi7",
        "outputId": "8f45884f-8299-4338-81e0-6a700c518321",
        "colab": {
          "base_uri": "https://localhost:8080/"
        }
      },
      "source": [
        "some_other_set"
      ],
      "execution_count": 76,
      "outputs": [
        {
          "output_type": "execute_result",
          "data": {
            "text/plain": [
              "{1, 2, 3}"
            ]
          },
          "metadata": {},
          "execution_count": 76
        }
      ]
    },
    {
      "cell_type": "code",
      "metadata": {
        "id": "OjaEoS09X-UZ"
      },
      "source": [
        "# intersection - &\n",
        "new_set = {2, 3, 6}"
      ],
      "execution_count": 77,
      "outputs": []
    },
    {
      "cell_type": "code",
      "metadata": {
        "id": "iYspF8zbYLWC",
        "outputId": "cd1b1b26-ca7f-40e0-df32-4d74e862a332",
        "colab": {
          "base_uri": "https://localhost:8080/"
        }
      },
      "source": [
        "print(new_set & some_other_set)"
      ],
      "execution_count": 78,
      "outputs": [
        {
          "output_type": "stream",
          "name": "stdout",
          "text": [
            "{2, 3}\n"
          ]
        }
      ]
    },
    {
      "cell_type": "code",
      "metadata": {
        "id": "oUoeuL3QYcC6",
        "outputId": "2d27d901-6177-4f27-eede-cbbf875f1153",
        "colab": {
          "base_uri": "https://localhost:8080/"
        }
      },
      "source": [
        "print (new_set.intersection(some_other_set))"
      ],
      "execution_count": 79,
      "outputs": [
        {
          "output_type": "stream",
          "name": "stdout",
          "text": [
            "{2, 3}\n"
          ]
        }
      ]
    },
    {
      "cell_type": "markdown",
      "metadata": {
        "id": "j_gdIAq3xkhj"
      },
      "source": [
        "#### List (extended data type)"
      ]
    },
    {
      "cell_type": "code",
      "metadata": {
        "id": "jPVlA4yXykkw"
      },
      "source": [
        "# List\n",
        "# A collection of items which are ordered. List is mutable.\n",
        "# Constructor is list()\n",
        "a = [1, 2, 3, \"hello\", 5]"
      ],
      "execution_count": 80,
      "outputs": []
    },
    {
      "cell_type": "code",
      "metadata": {
        "id": "RcAAcHcO4HVI"
      },
      "source": [
        "a.append('hi')"
      ],
      "execution_count": 81,
      "outputs": []
    },
    {
      "cell_type": "code",
      "metadata": {
        "id": "6aOeQG784Jmc",
        "outputId": "85ddf985-9b24-4706-84f1-ed5a9dcedb07",
        "colab": {
          "base_uri": "https://localhost:8080/"
        }
      },
      "source": [
        "b = [2, 4, 'next']\n",
        "a.append(b)\n",
        "print (a)\n",
        "a.extend(b)\n",
        "print(a)"
      ],
      "execution_count": 90,
      "outputs": [
        {
          "output_type": "stream",
          "name": "stdout",
          "text": [
            "[2, 4, 'next', 2, 4, 'next', 2, 4, 'next', [2, 4, 'next'], 2, 4, 'next', [2, 4, 'next']]\n",
            "[2, 4, 'next', 2, 4, 'next', 2, 4, 'next', [2, 4, 'next'], 2, 4, 'next', [2, 4, 'next'], 2, 4, 'next']\n"
          ]
        }
      ]
    },
    {
      "cell_type": "code",
      "metadata": {
        "id": "jhDrVLHy4ccH",
        "outputId": "cbbcdea7-7e72-4482-fade-a31727cbec51",
        "colab": {
          "base_uri": "https://localhost:8080/"
        }
      },
      "source": [
        "c = a[2:4]\n",
        "print (c)"
      ],
      "execution_count": 91,
      "outputs": [
        {
          "output_type": "stream",
          "name": "stdout",
          "text": [
            "['next', 2]\n"
          ]
        }
      ]
    },
    {
      "cell_type": "code",
      "metadata": {
        "id": "DMe9VFw_4xn1",
        "outputId": "8220f157-be9d-4f39-cc5a-d348d8846a1d",
        "colab": {
          "base_uri": "https://localhost:8080/"
        }
      },
      "source": [
        "print (len(c))"
      ],
      "execution_count": 92,
      "outputs": [
        {
          "output_type": "stream",
          "name": "stdout",
          "text": [
            "2\n"
          ]
        }
      ]
    },
    {
      "cell_type": "code",
      "metadata": {
        "id": "rUQUC3pa4MhA",
        "outputId": "736e3ed8-490e-40ff-9995-c9b9c641892b",
        "colab": {
          "base_uri": "https://localhost:8080/"
        }
      },
      "source": [
        "a = []\n",
        "print (a)"
      ],
      "execution_count": 93,
      "outputs": [
        {
          "output_type": "stream",
          "name": "stdout",
          "text": [
            "[]\n"
          ]
        }
      ]
    },
    {
      "cell_type": "code",
      "metadata": {
        "id": "TOyxMdR7FcyC"
      },
      "source": [
        ""
      ],
      "execution_count": 93,
      "outputs": []
    },
    {
      "cell_type": "markdown",
      "metadata": {
        "id": "c0QOr__1103r"
      },
      "source": [
        "#### Tuple (extended data type)"
      ]
    },
    {
      "cell_type": "code",
      "metadata": {
        "id": "6zPu2iJs2crj"
      },
      "source": [
        "# Tuple - collection of items which are ordered but immutable.\n",
        "# Constructor is tuple()\n",
        "a = (\"hello\", \"how\", (1, 2, 3), \"you\")"
      ],
      "execution_count": 94,
      "outputs": []
    },
    {
      "cell_type": "code",
      "metadata": {
        "id": "jQOy8m8j2gSo",
        "outputId": "46bd30dd-58b9-4bee-e121-0972afa1f304",
        "colab": {
          "base_uri": "https://localhost:8080/"
        }
      },
      "source": [
        "print (type(a))\n",
        "type(a)"
      ],
      "execution_count": 96,
      "outputs": [
        {
          "output_type": "stream",
          "name": "stdout",
          "text": [
            "<class 'tuple'>\n"
          ]
        },
        {
          "output_type": "execute_result",
          "data": {
            "text/plain": [
              "tuple"
            ]
          },
          "metadata": {},
          "execution_count": 96
        }
      ]
    },
    {
      "cell_type": "code",
      "metadata": {
        "id": "NyRXLzGc403j",
        "outputId": "16ffaeb8-ff15-47d6-b803-09337e55a408",
        "colab": {
          "base_uri": "https://localhost:8080/"
        }
      },
      "source": [
        "print (len(a))"
      ],
      "execution_count": 97,
      "outputs": [
        {
          "output_type": "stream",
          "name": "stdout",
          "text": [
            "4\n"
          ]
        }
      ]
    },
    {
      "cell_type": "code",
      "metadata": {
        "id": "RXX7JrZXk8mW",
        "outputId": "d7ba75c2-b3c0-41e0-b80c-159a34d1fa27",
        "colab": {
          "base_uri": "https://localhost:8080/"
        }
      },
      "source": [
        "for i in range(0, len(a)): print (a[i])"
      ],
      "execution_count": 98,
      "outputs": [
        {
          "output_type": "stream",
          "name": "stdout",
          "text": [
            "hello\n",
            "how\n",
            "(1, 2, 3)\n",
            "you\n"
          ]
        }
      ]
    },
    {
      "cell_type": "code",
      "metadata": {
        "id": "mMUF7ZBz2gO0",
        "outputId": "59c64171-f9d3-490e-e72e-ac9afac7bd88",
        "colab": {
          "base_uri": "https://localhost:8080/"
        }
      },
      "source": [
        "print (a[0])"
      ],
      "execution_count": 99,
      "outputs": [
        {
          "output_type": "stream",
          "name": "stdout",
          "text": [
            "hello\n"
          ]
        }
      ]
    },
    {
      "cell_type": "code",
      "metadata": {
        "id": "56ure9QY2gLL"
      },
      "source": [
        "b = a[1:3]"
      ],
      "execution_count": 102,
      "outputs": []
    },
    {
      "cell_type": "code",
      "metadata": {
        "id": "Jauf9eI9kyBS",
        "outputId": "47877394-e7b2-4a21-e824-7017aba6919b",
        "colab": {
          "base_uri": "https://localhost:8080/"
        }
      },
      "source": [
        "type(b)"
      ],
      "execution_count": 103,
      "outputs": [
        {
          "output_type": "execute_result",
          "data": {
            "text/plain": [
              "tuple"
            ]
          },
          "metadata": {},
          "execution_count": 103
        }
      ]
    },
    {
      "cell_type": "code",
      "metadata": {
        "id": "BJECFoFI28zD",
        "outputId": "025f0bc4-fa72-42a9-8a0d-8cd8f399254c",
        "colab": {
          "base_uri": "https://localhost:8080/"
        }
      },
      "source": [
        "print (b)"
      ],
      "execution_count": 104,
      "outputs": [
        {
          "output_type": "stream",
          "name": "stdout",
          "text": [
            "('how', (1, 2, 3))\n"
          ]
        }
      ]
    },
    {
      "cell_type": "code",
      "metadata": {
        "id": "5gx8RJnq5GiE",
        "outputId": "6977bcbd-a360-4563-8974-9707673866f5",
        "colab": {
          "base_uri": "https://localhost:8080/"
        }
      },
      "source": [
        "print (b[-1])"
      ],
      "execution_count": 105,
      "outputs": [
        {
          "output_type": "stream",
          "name": "stdout",
          "text": [
            "(1, 2, 3)\n"
          ]
        }
      ]
    },
    {
      "cell_type": "code",
      "metadata": {
        "id": "MjpzmtXBtjdE",
        "outputId": "0a21d7b4-21cf-44c0-9a98-7bc214ba0adb",
        "colab": {
          "base_uri": "https://localhost:8080/"
        }
      },
      "source": [
        "#using Constructor\n",
        "new_list = list(('this', 1, \"is\", \"fine\"))\n",
        "new_list"
      ],
      "execution_count": 109,
      "outputs": [
        {
          "output_type": "execute_result",
          "data": {
            "text/plain": [
              "['this', 1, 'is', 'fine']"
            ]
          },
          "metadata": {},
          "execution_count": 109
        }
      ]
    },
    {
      "cell_type": "markdown",
      "metadata": {
        "id": "WtFeKcuL16MW"
      },
      "source": [
        "#### Dictionary (extended data type)"
      ]
    },
    {
      "cell_type": "code",
      "metadata": {
        "id": "kOrp2T1s6sCc"
      },
      "source": [
        "# Dictionary - collection of pairs of (key, value) which are mutable\n",
        "# Constructor is dict()"
      ],
      "execution_count": 110,
      "outputs": []
    },
    {
      "cell_type": "code",
      "metadata": {
        "id": "zDByZj8kWWxh"
      },
      "source": [
        "some_dict = dict({\"age\": 47, \n",
        "                  \"name\": \"Amar\", \n",
        "                  \"marks\": [23, 25, 24, 23]})"
      ],
      "execution_count": 111,
      "outputs": []
    },
    {
      "cell_type": "code",
      "metadata": {
        "id": "cLsbT3Ovvug0",
        "outputId": "62864c1b-4b8a-48d0-cf1c-bbefe2835a27",
        "colab": {
          "base_uri": "https://localhost:8080/"
        }
      },
      "source": [
        "type(some_dict)"
      ],
      "execution_count": 112,
      "outputs": [
        {
          "output_type": "execute_result",
          "data": {
            "text/plain": [
              "dict"
            ]
          },
          "metadata": {},
          "execution_count": 112
        }
      ]
    },
    {
      "cell_type": "code",
      "metadata": {
        "id": "j6uIEOVsvixp"
      },
      "source": [
        "another_dict = {\"age\": 47, \n",
        "                  \"name\": \"Amar\", \n",
        "                  \"marks\": [23, 25, 24, 23]}"
      ],
      "execution_count": 113,
      "outputs": []
    },
    {
      "cell_type": "code",
      "metadata": {
        "id": "0-RkMWtevneW",
        "outputId": "a4e1ab70-b39c-48f5-de37-2cf7af4101f0",
        "colab": {
          "base_uri": "https://localhost:8080/"
        }
      },
      "source": [
        "type(another_dict)"
      ],
      "execution_count": 114,
      "outputs": [
        {
          "output_type": "execute_result",
          "data": {
            "text/plain": [
              "dict"
            ]
          },
          "metadata": {},
          "execution_count": 114
        }
      ]
    },
    {
      "cell_type": "code",
      "metadata": {
        "id": "ScUuut2DRtwW",
        "outputId": "5ef9a3b5-9141-42f1-a3de-7d6b25c73025",
        "colab": {
          "base_uri": "https://localhost:8080/"
        }
      },
      "source": [
        "print (another_dict.get(\"marks\"))"
      ],
      "execution_count": 115,
      "outputs": [
        {
          "output_type": "stream",
          "name": "stdout",
          "text": [
            "[23, 25, 24, 23]\n"
          ]
        }
      ]
    },
    {
      "cell_type": "code",
      "metadata": {
        "id": "gGmiR4a2HTfL",
        "outputId": "36783a41-82e6-4e3d-f09e-2d56d4484d7f",
        "colab": {
          "base_uri": "https://localhost:8080/"
        }
      },
      "source": [
        "print (another_dict.get(\"name\"))"
      ],
      "execution_count": 116,
      "outputs": [
        {
          "output_type": "stream",
          "name": "stdout",
          "text": [
            "Amar\n"
          ]
        }
      ]
    },
    {
      "cell_type": "code",
      "metadata": {
        "id": "Jr2ocM04wdwG"
      },
      "source": [
        "# update value against a key\n",
        "another_dict[\"marks\"] = [23, 24, 25]"
      ],
      "execution_count": 117,
      "outputs": []
    },
    {
      "cell_type": "code",
      "metadata": {
        "id": "52XclHC8HYky"
      },
      "source": [
        "another_dict[\"name\"] = \"Ram\""
      ],
      "execution_count": 118,
      "outputs": []
    },
    {
      "cell_type": "code",
      "metadata": {
        "id": "5FLSAGzlxUMi"
      },
      "source": [
        "# adding a new key-value pair\n",
        "another_dict[\"gender\"] = \"Male\""
      ],
      "execution_count": 119,
      "outputs": []
    },
    {
      "cell_type": "code",
      "metadata": {
        "id": "3xFsIN13zS48",
        "outputId": "fbddd07f-3470-4cae-8794-5a78233626c5",
        "colab": {
          "base_uri": "https://localhost:8080/"
        }
      },
      "source": [
        "another_dict"
      ],
      "execution_count": 121,
      "outputs": [
        {
          "output_type": "execute_result",
          "data": {
            "text/plain": [
              "{'age': 47, 'gender': 'Male', 'marks': [23, 24, 25], 'name': 'Ram'}"
            ]
          },
          "metadata": {},
          "execution_count": 121
        }
      ]
    },
    {
      "cell_type": "code",
      "metadata": {
        "id": "lgNNC1V1zJ_p",
        "outputId": "265b5224-6a4d-46de-8141-029f7f5c619f",
        "colab": {
          "base_uri": "https://localhost:8080/",
          "height": 35
        }
      },
      "source": [
        "# removing a key-value pair using pop\n",
        "another_dict.pop(\"gender\")"
      ],
      "execution_count": 122,
      "outputs": [
        {
          "output_type": "execute_result",
          "data": {
            "application/vnd.google.colaboratory.intrinsic+json": {
              "type": "string"
            },
            "text/plain": [
              "'Male'"
            ]
          },
          "metadata": {},
          "execution_count": 122
        }
      ]
    },
    {
      "cell_type": "code",
      "metadata": {
        "id": "zLcTq049y_7F",
        "outputId": "efb19b25-4b9c-4222-bc53-ede9a0bf0bf4",
        "colab": {
          "base_uri": "https://localhost:8080/"
        }
      },
      "source": [
        "another_dict"
      ],
      "execution_count": 123,
      "outputs": [
        {
          "output_type": "execute_result",
          "data": {
            "text/plain": [
              "{'age': 47, 'marks': [23, 24, 25], 'name': 'Ram'}"
            ]
          },
          "metadata": {},
          "execution_count": 123
        }
      ]
    },
    {
      "cell_type": "code",
      "metadata": {
        "id": "a5kPOWcJwSVy",
        "outputId": "0fc63a8e-2777-46c9-d209-d1dbc8a9198d",
        "colab": {
          "base_uri": "https://localhost:8080/"
        }
      },
      "source": [
        "print (some_dict.keys())"
      ],
      "execution_count": 124,
      "outputs": [
        {
          "output_type": "stream",
          "name": "stdout",
          "text": [
            "dict_keys(['age', 'name', 'marks'])\n"
          ]
        }
      ]
    },
    {
      "cell_type": "markdown",
      "metadata": {
        "id": "n6S0H1QCzvjY"
      },
      "source": [
        "#### Python Identity Operators - is, is not"
      ]
    },
    {
      "cell_type": "code",
      "metadata": {
        "id": "9pBVi4a0z2q5"
      },
      "source": [
        "a = [\"some\", \"list\"]\n",
        "b = [\"some\", \"list\"]\n"
      ],
      "execution_count": 125,
      "outputs": []
    },
    {
      "cell_type": "code",
      "metadata": {
        "id": "a_rsTrml6M1o",
        "outputId": "2b0b5807-f275-417e-91d6-3d702fdf2b0d",
        "colab": {
          "base_uri": "https://localhost:8080/"
        }
      },
      "source": [
        "if a is b: \n",
        "   print ('a and b reference the same object')\n",
        "else:\n",
        "   print ('a and b do not reference the same object')"
      ],
      "execution_count": 126,
      "outputs": [
        {
          "output_type": "stream",
          "name": "stdout",
          "text": [
            "a and b do not reference the same object\n"
          ]
        }
      ]
    },
    {
      "cell_type": "code",
      "metadata": {
        "id": "3Cf-mRXx6Olj",
        "outputId": "c8f73a21-c380-4a97-8050-730f2259df2f",
        "colab": {
          "base_uri": "https://localhost:8080/"
        }
      },
      "source": [
        "if a == b:\n",
        "   print ('However, the values of a and b are the same')\n",
        "else:\n",
        "   print (\"The values of a and b are different\")"
      ],
      "execution_count": 127,
      "outputs": [
        {
          "output_type": "stream",
          "name": "stdout",
          "text": [
            "However, the values of a and b are the same\n"
          ]
        }
      ]
    },
    {
      "cell_type": "code",
      "metadata": {
        "id": "2E_co7_i6MbJ",
        "outputId": "2d156089-0865-427d-fa70-ed0e75c65cb0",
        "colab": {
          "base_uri": "https://localhost:8080/"
        }
      },
      "source": [
        "if a is not b:\n",
        "   print ('tested, they are indeed different')"
      ],
      "execution_count": 128,
      "outputs": [
        {
          "output_type": "stream",
          "name": "stdout",
          "text": [
            "tested, they are indeed different\n"
          ]
        }
      ]
    },
    {
      "cell_type": "markdown",
      "metadata": {
        "id": "sWA5Ii-BU7vA"
      },
      "source": [
        ""
      ]
    },
    {
      "cell_type": "markdown",
      "metadata": {
        "id": "JkZFcHU2z3OC"
      },
      "source": [
        "#### Python Membership Operators - in, not in"
      ]
    },
    {
      "cell_type": "code",
      "metadata": {
        "id": "CR8tAc1_rW11"
      },
      "source": [
        "a = [\"this\", \"is\", \"a\", \"new\", \"list\"]"
      ],
      "execution_count": 129,
      "outputs": []
    },
    {
      "cell_type": "code",
      "metadata": {
        "id": "UibZiI5e2cBj",
        "outputId": "8953d6ab-055a-46b7-d5a0-c4c07d164223",
        "colab": {
          "base_uri": "https://localhost:8080/"
        }
      },
      "source": [
        "% time\n",
        "for item in a: \n",
        "  print (item)"
      ],
      "execution_count": 135,
      "outputs": [
        {
          "output_type": "stream",
          "name": "stdout",
          "text": [
            "CPU times: user 4 µs, sys: 0 ns, total: 4 µs\n",
            "Wall time: 7.39 µs\n",
            "this\n",
            "is\n",
            "a\n",
            "new\n",
            "list\n"
          ]
        }
      ]
    },
    {
      "cell_type": "code",
      "metadata": {
        "id": "n_uiZE9CsPMF",
        "outputId": "0b27deab-b69f-4aaf-fbca-c899315abeec",
        "colab": {
          "base_uri": "https://localhost:8080/"
        }
      },
      "source": [
        "% time\n",
        "for item in a:\n",
        "  print (item, end=\" \")"
      ],
      "execution_count": 136,
      "outputs": [
        {
          "output_type": "stream",
          "name": "stdout",
          "text": [
            "CPU times: user 3 µs, sys: 0 ns, total: 3 µs\n",
            "Wall time: 5.25 µs\n",
            "this is a new list "
          ]
        }
      ]
    },
    {
      "cell_type": "code",
      "metadata": {
        "id": "Zo1Ec35N2cgk",
        "outputId": "1b52fe98-61b3-4fc0-b603-bf24d73d4b8c",
        "colab": {
          "base_uri": "https://localhost:8080/"
        }
      },
      "source": [
        "if \"new\" in a: print ('Yes, matching item found')\n",
        "else: print(\"Item not found\")"
      ],
      "execution_count": 142,
      "outputs": [
        {
          "output_type": "stream",
          "name": "stdout",
          "text": [
            "Yes, matching item found\n"
          ]
        }
      ]
    },
    {
      "cell_type": "code",
      "metadata": {
        "id": "5bieGXu5z9Qk",
        "outputId": "0260fac4-e672-40f2-a59d-3a55d02b0b02",
        "colab": {
          "base_uri": "https://localhost:8080/"
        }
      },
      "source": [
        "if (\"list\" not in a):\n",
        "  print (\"Am I wrong\")\n",
        "else:\n",
        "  print (\"Am I right\")"
      ],
      "execution_count": 143,
      "outputs": [
        {
          "output_type": "stream",
          "name": "stdout",
          "text": [
            "Am I right\n"
          ]
        }
      ]
    },
    {
      "cell_type": "markdown",
      "metadata": {
        "id": "AbmcGntt-yTg"
      },
      "source": [
        "#### More Detailed Examples"
      ]
    },
    {
      "cell_type": "markdown",
      "metadata": {
        "id": "sH8rekL73ae4"
      },
      "source": [
        "1. [Python Variables, Data Types](https://www.w3schools.com/python/python_variables.asp) and \n",
        "[Python Exercises ](https://www.w3schools.com/python/python_exercises.asp)\n",
        "2. [Official Python Documentation](https://docs.python.org/3/tutorial/introduction.html)"
      ]
    }
  ]
}