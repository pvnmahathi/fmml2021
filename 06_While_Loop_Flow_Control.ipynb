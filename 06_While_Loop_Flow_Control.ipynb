{
  "nbformat": 4,
  "nbformat_minor": 0,
  "metadata": {
    "colab": {
      "name": "06_While_Loop-Flow_Control.ipynb",
      "provenance": [],
      "include_colab_link": true
    },
    "kernelspec": {
      "name": "python3",
      "display_name": "Python 3"
    },
    "language_info": {
      "name": "python"
    }
  },
  "cells": [
    {
      "cell_type": "markdown",
      "metadata": {
        "id": "view-in-github",
        "colab_type": "text"
      },
      "source": [
        "<a href=\"https://colab.research.google.com/github/pvnmahathi/fmml2021/blob/main/06_While_Loop_Flow_Control.ipynb\" target=\"_parent\"><img src=\"https://colab.research.google.com/assets/colab-badge.svg\" alt=\"Open In Colab\"/></a>"
      ]
    },
    {
      "cell_type": "markdown",
      "metadata": {
        "id": "1_JLSdRkqi_5"
      },
      "source": [
        "#### WHILE-LOOP: The while loop executes as long as the condition remains true."
      ]
    },
    {
      "cell_type": "code",
      "metadata": {
        "id": "BWYbJYa5rlk5"
      },
      "source": [
        "#        while condition:\n",
        "#           statement-block"
      ],
      "execution_count": 1,
      "outputs": []
    },
    {
      "cell_type": "code",
      "metadata": {
        "id": "LP4gqudewbsi"
      },
      "source": [
        "i = 0"
      ],
      "execution_count": 2,
      "outputs": []
    },
    {
      "cell_type": "code",
      "metadata": {
        "id": "BPjFgz1-wgvK",
        "outputId": "6348e74d-dc8c-40ab-db78-3cfa3b49a3de",
        "colab": {
          "base_uri": "https://localhost:8080/"
        }
      },
      "source": [
        "while (i < 10):\n",
        "   print (i, end=\" \")\n",
        "   i = i + 1"
      ],
      "execution_count": 3,
      "outputs": [
        {
          "output_type": "stream",
          "name": "stdout",
          "text": [
            "0 1 2 3 4 5 6 7 8 9 "
          ]
        }
      ]
    },
    {
      "cell_type": "code",
      "metadata": {
        "id": "3dnyj0WHwzaZ",
        "outputId": "1addbfbb-e4d2-4329-9d66-5fd1d79ce472",
        "colab": {
          "base_uri": "https://localhost:8080/"
        }
      },
      "source": [
        "# 1 1 2 3 5 8 13 \n",
        "###########code to implement fibonacci series\n",
        "a = 1\n",
        "b = 1\n",
        "n = int(input(\"Please enter the number of terms in fibonacci series: \"))\n",
        "i = 0\n",
        "print(a, end = \" \")\n",
        "print(b, end = \" \")\n",
        "while i<n-2:\n",
        "  print(a+b, end = \" \")\n",
        "  (a,b) = (b,a+b)\n",
        "  i = i+1\n",
        "\n"
      ],
      "execution_count": 7,
      "outputs": [
        {
          "output_type": "stream",
          "name": "stdout",
          "text": [
            "Please enter the number of terms in fibonacci series: 5\n",
            "1 1 2 3 5 "
          ]
        }
      ]
    },
    {
      "cell_type": "code",
      "metadata": {
        "id": "2entoj_sw-YV"
      },
      "source": [
        "a = b = 1"
      ],
      "execution_count": 12,
      "outputs": []
    },
    {
      "cell_type": "code",
      "metadata": {
        "id": "8ADO1xTtxAdK",
        "outputId": "e63e0b08-f987-43ee-a87f-139fcd6d76a9",
        "colab": {
          "base_uri": "https://localhost:8080/"
        }
      },
      "source": [
        "while (b < 10000):\n",
        "    print (a, b, end=\" \")\n",
        "    a = a + b\n",
        "    b = a + b"
      ],
      "execution_count": 13,
      "outputs": [
        {
          "output_type": "stream",
          "name": "stdout",
          "text": [
            "1 1 2 3 5 8 13 21 34 55 89 144 233 377 610 987 1597 2584 4181 6765 "
          ]
        }
      ]
    },
    {
      "cell_type": "code",
      "metadata": {
        "id": "GpU2tRwW4yLM"
      },
      "source": [
        "my_str = '***********'"
      ],
      "execution_count": 14,
      "outputs": []
    },
    {
      "cell_type": "code",
      "metadata": {
        "id": "ogXM0QWM44jO"
      },
      "source": [
        "str_len = len(my_str)"
      ],
      "execution_count": 15,
      "outputs": []
    },
    {
      "cell_type": "code",
      "metadata": {
        "id": "rjpLoZPy5GF3",
        "outputId": "c320f8a4-843d-420d-a362-057925d6038e",
        "colab": {
          "base_uri": "https://localhost:8080/"
        }
      },
      "source": [
        "while (str_len > 0):\n",
        "   print (my_str[:str_len])\n",
        "   str_len = str_len - 1"
      ],
      "execution_count": 16,
      "outputs": [
        {
          "output_type": "stream",
          "name": "stdout",
          "text": [
            "***********\n",
            "**********\n",
            "*********\n",
            "********\n",
            "*******\n",
            "******\n",
            "*****\n",
            "****\n",
            "***\n",
            "**\n",
            "*\n"
          ]
        }
      ]
    },
    {
      "cell_type": "code",
      "metadata": {
        "id": "prvBHO7u7p-R",
        "outputId": "b9f35f7e-66d0-4b58-8d89-be279f5066d3",
        "colab": {
          "base_uri": "https://localhost:8080/"
        }
      },
      "source": [
        "# Exercise to print the pattern in increasing order\n",
        "while (str_len <= len(my_str)):\n",
        "   print (my_str[:str_len])\n",
        "   str_len = str_len + 1"
      ],
      "execution_count": 17,
      "outputs": [
        {
          "output_type": "stream",
          "name": "stdout",
          "text": [
            "\n",
            "*\n",
            "**\n",
            "***\n",
            "****\n",
            "*****\n",
            "******\n",
            "*******\n",
            "********\n",
            "*********\n",
            "**********\n",
            "***********\n"
          ]
        }
      ]
    },
    {
      "cell_type": "code",
      "metadata": {
        "id": "LtJiFUvd1hWQ"
      },
      "source": [
        ""
      ],
      "execution_count": null,
      "outputs": []
    }
  ]
}