{
  "nbformat": 4,
  "nbformat_minor": 0,
  "metadata": {
    "colab": {
      "name": "10_Problem_Solution.ipynb",
      "provenance": [],
      "include_colab_link": true
    },
    "kernelspec": {
      "name": "python3",
      "display_name": "Python 3"
    },
    "language_info": {
      "name": "python"
    }
  },
  "cells": [
    {
      "cell_type": "markdown",
      "metadata": {
        "id": "view-in-github",
        "colab_type": "text"
      },
      "source": [
        "<a href=\"https://colab.research.google.com/github/pvnmahathi/fmml2021/blob/main/10_Problem_Solution.ipynb\" target=\"_parent\"><img src=\"https://colab.research.google.com/assets/colab-badge.svg\" alt=\"Open In Colab\"/></a>"
      ]
    },
    {
      "cell_type": "code",
      "metadata": {
        "id": "4tHdnVmZSQIR"
      },
      "source": [
        "# Madagascar problem"
      ],
      "execution_count": null,
      "outputs": []
    },
    {
      "cell_type": "code",
      "metadata": {
        "id": "KkTnYRbjSZ4g"
      },
      "source": [
        "import numpy as np"
      ],
      "execution_count": 37,
      "outputs": []
    },
    {
      "cell_type": "code",
      "metadata": {
        "id": "vbsZHOPVSbYh"
      },
      "source": [
        "A = np.array([[20, 122, 20], [35,180, 35],[50, 220, 65], [70, 300, 30]])\n",
        "x = np.array([[0.05], [0.002], [0.02]])"
      ],
      "execution_count": 38,
      "outputs": []
    },
    {
      "cell_type": "code",
      "metadata": {
        "id": "4CvxUBB8U0PA"
      },
      "source": [
        "# 4x3 . 3x1 = 4x1"
      ],
      "execution_count": 39,
      "outputs": []
    },
    {
      "cell_type": "code",
      "metadata": {
        "id": "PSJBzTZzSdzT"
      },
      "source": [
        "y = np.matmul(A,x) - 4.0"
      ],
      "execution_count": 40,
      "outputs": []
    },
    {
      "cell_type": "code",
      "metadata": {
        "id": "vbUVbTI4IlB4",
        "outputId": "77f2708f-6e5c-4c3a-f965-b3a801b61f01",
        "colab": {
          "base_uri": "https://localhost:8080/"
        }
      },
      "source": [
        "y"
      ],
      "execution_count": 41,
      "outputs": [
        {
          "output_type": "execute_result",
          "data": {
            "text/plain": [
              "array([[-2.356],\n",
              "       [-1.19 ],\n",
              "       [ 0.24 ],\n",
              "       [ 0.7  ]])"
            ]
          },
          "metadata": {},
          "execution_count": 41
        }
      ]
    },
    {
      "cell_type": "code",
      "metadata": {
        "id": "Um0CIsH1VJPi"
      },
      "source": [
        "Z = np.hstack((A,y))"
      ],
      "execution_count": 42,
      "outputs": []
    },
    {
      "cell_type": "code",
      "metadata": {
        "id": "VNfl5nmkH8Bv",
        "outputId": "aeddc4b3-5188-4d7b-eb6d-99365e17f83c",
        "colab": {
          "base_uri": "https://localhost:8080/"
        }
      },
      "source": [
        "Z"
      ],
      "execution_count": 43,
      "outputs": [
        {
          "output_type": "execute_result",
          "data": {
            "text/plain": [
              "array([[ 2.000e+01,  1.220e+02,  2.000e+01, -2.356e+00],\n",
              "       [ 3.500e+01,  1.800e+02,  3.500e+01, -1.190e+00],\n",
              "       [ 5.000e+01,  2.200e+02,  6.500e+01,  2.400e-01],\n",
              "       [ 7.000e+01,  3.000e+02,  3.000e+01,  7.000e-01]])"
            ]
          },
          "metadata": {},
          "execution_count": 43
        }
      ]
    },
    {
      "cell_type": "code",
      "metadata": {
        "id": "3-gvfEeDHvTM"
      },
      "source": [
        "S = np.array(np.arange(1,len(A)+1).reshape(4,1), dtype=np.int16)  #array of serial numbers to index the data"
      ],
      "execution_count": 44,
      "outputs": []
    },
    {
      "cell_type": "code",
      "metadata": {
        "id": "Y4pSsIb6H4_L",
        "outputId": "35cdb3a7-57c0-4838-82f2-b480c45eaab2",
        "colab": {
          "base_uri": "https://localhost:8080/"
        }
      },
      "source": [
        "S"
      ],
      "execution_count": 45,
      "outputs": [
        {
          "output_type": "execute_result",
          "data": {
            "text/plain": [
              "array([[1],\n",
              "       [2],\n",
              "       [3],\n",
              "       [4]], dtype=int16)"
            ]
          },
          "metadata": {},
          "execution_count": 45
        }
      ]
    },
    {
      "cell_type": "code",
      "metadata": {
        "id": "Oryf-5goVTxG"
      },
      "source": [
        "F = np.hstack((S, Z)) #adding a column at the beginning of the data(similar to a serial no.)"
      ],
      "execution_count": 46,
      "outputs": []
    },
    {
      "cell_type": "code",
      "metadata": {
        "id": "uK-2_VRtJMqj",
        "outputId": "bd7f5ad9-be0e-4289-e39d-e55ff28f04a6",
        "colab": {
          "base_uri": "https://localhost:8080/"
        }
      },
      "source": [
        "F"
      ],
      "execution_count": 47,
      "outputs": [
        {
          "output_type": "execute_result",
          "data": {
            "text/plain": [
              "array([[ 1.000e+00,  2.000e+01,  1.220e+02,  2.000e+01, -2.356e+00],\n",
              "       [ 2.000e+00,  3.500e+01,  1.800e+02,  3.500e+01, -1.190e+00],\n",
              "       [ 3.000e+00,  5.000e+01,  2.200e+02,  6.500e+01,  2.400e-01],\n",
              "       [ 4.000e+00,  7.000e+01,  3.000e+02,  3.000e+01,  7.000e-01]])"
            ]
          },
          "metadata": {},
          "execution_count": 47
        }
      ]
    },
    {
      "cell_type": "code",
      "metadata": {
        "id": "vQt6XMT8ViYW"
      },
      "source": [
        "def RankArray(A,x):\n",
        "  y = np.dot(A,x) - 4.0\n",
        "  L = np.hstack((A,y))\n",
        "\n",
        "  #### Code to return only records of citizens with high risk factor\n",
        "  S = np.array(np.arange(1,len(A)+1).reshape(4,1), dtype=np.int16) #array of serial numbers to index the data\n",
        "  F = np.hstack((S, L)) #adding a column at the beginning of the data(similar to a serial no.)\n",
        "  P = F[F[:,-1]>0, :]  #returning records of high risk people by checking the weighted sum of all records and selecting records with risk-factor > 4\n",
        "  return P "
      ],
      "execution_count": 48,
      "outputs": []
    },
    {
      "cell_type": "code",
      "metadata": {
        "id": "6VqMLbRWVwL3",
        "outputId": "923833bd-0245-46d6-c20c-079a1702c1fb",
        "colab": {
          "base_uri": "https://localhost:8080/"
        }
      },
      "source": [
        "print (RankArray(A,x))  #prints the records of citizens with high risk factor(in this instance last two records)"
      ],
      "execution_count": 49,
      "outputs": [
        {
          "output_type": "stream",
          "name": "stdout",
          "text": [
            "[[3.0e+00 5.0e+01 2.2e+02 6.5e+01 2.4e-01]\n",
            " [4.0e+00 7.0e+01 3.0e+02 3.0e+01 7.0e-01]]\n"
          ]
        }
      ]
    },
    {
      "cell_type": "code",
      "metadata": {
        "id": "GENB800UJ8C7"
      },
      "source": [
        ""
      ],
      "execution_count": null,
      "outputs": []
    }
  ]
}